{
 "cells": [
  {
   "cell_type": "code",
   "execution_count": 7,
   "metadata": {},
   "outputs": [
    {
     "name": "stdout",
     "output_type": "stream",
     "text": [
      "6\n",
      "6\n"
     ]
    }
   ],
   "source": [
    "def multiplicar(numero1, numero2):\n",
    "    return numero1 * numero2\n",
    "\n",
    "print(multiplicar(2, 3)) # 6\n",
    "\n",
    "resultado = multiplicar(2, 3)\n",
    "\n",
    "print(resultado) # 6"
   ]
  },
  {
   "cell_type": "code",
   "execution_count": 9,
   "metadata": {},
   "outputs": [
    {
     "name": "stdout",
     "output_type": "stream",
     "text": [
      "6\n",
      "6\n"
     ]
    }
   ],
   "source": [
    "def multiplicar(numero1, numero2):\n",
    "    total= numero1 * numero2\n",
    "    return total\n",
    "\n",
    "print(multiplicar(2, 3)) # 6\n",
    "\n",
    "resultado = multiplicar(2, 3)\n",
    "\n",
    "print(resultado) # 6"
   ]
  }
 ],
 "metadata": {
  "kernelspec": {
   "display_name": "Python 3",
   "language": "python",
   "name": "python3"
  },
  "language_info": {
   "codemirror_mode": {
    "name": "ipython",
    "version": 3
   },
   "file_extension": ".py",
   "mimetype": "text/x-python",
   "name": "python",
   "nbconvert_exporter": "python",
   "pygments_lexer": "ipython3",
   "version": "3.11.9"
  }
 },
 "nbformat": 4,
 "nbformat_minor": 2
}
