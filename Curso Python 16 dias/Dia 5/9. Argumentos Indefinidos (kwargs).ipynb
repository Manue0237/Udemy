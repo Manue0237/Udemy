{
 "cells": [
  {
   "cell_type": "code",
   "execution_count": 1,
   "metadata": {},
   "outputs": [
    {
     "data": {
      "text/plain": [
       "dict"
      ]
     },
     "execution_count": 1,
     "metadata": {},
     "output_type": "execute_result"
    }
   ],
   "source": [
    "def suma(**kwargs):\n",
    "    return type(kwargs)\n",
    "\n",
    "suma(a=1, b=2, c=3) # dict\n"
   ]
  },
  {
   "cell_type": "code",
   "execution_count": 3,
   "metadata": {},
   "outputs": [
    {
     "name": "stdout",
     "output_type": "stream",
     "text": [
      "a = 1\n",
      "b = 2\n",
      "c = 3\n"
     ]
    }
   ],
   "source": [
    "def suma(**kwargs):\n",
    "    for clave, valor in kwargs.items():\n",
    "        print(f'{clave} = {valor}')\n",
    "\n",
    "\n",
    "suma(a=1, b=2, c=3) # dict\n"
   ]
  },
  {
   "cell_type": "code",
   "execution_count": 6,
   "metadata": {},
   "outputs": [
    {
     "name": "stdout",
     "output_type": "stream",
     "text": [
      "a = 1\n",
      "b = 2\n",
      "c = 3\n",
      "6\n"
     ]
    }
   ],
   "source": [
    "def suma(**kwargs):\n",
    "    total = 0\n",
    "    for clave, valor in kwargs.items():\n",
    "        print(f'{clave} = {valor}')\n",
    "        total += valor\n",
    "    return total\n",
    "    \n",
    "\n",
    "print(suma(a=1, b=2, c=3))"
   ]
  },
  {
   "cell_type": "code",
   "execution_count": 7,
   "metadata": {},
   "outputs": [
    {
     "name": "stdout",
     "output_type": "stream",
     "text": [
      "El pimer valor es 1\n",
      "El segundo valor es 2\n",
      "arg = 3\n",
      "arg = 4\n",
      "arg = 5\n",
      "a = 1\n",
      "b = 2\n",
      "c = 3\n"
     ]
    }
   ],
   "source": [
    "def prueba(num1, num2, *args, **kwargs):\n",
    "    print(f'El pimer valor es {num1}')\n",
    "    print(f'El segundo valor es {num2}')\n",
    "    for valor in args:\n",
    "        print(f'arg = {valor}')\n",
    "    for clave, valor in kwargs.items():\n",
    "        print(f'{clave} = {valor}')\n",
    "    \n",
    "\n",
    "prueba(1, 2, 3, 4, 5, a=1, b=2, c=3)"
   ]
  },
  {
   "cell_type": "code",
   "execution_count": 8,
   "metadata": {},
   "outputs": [
    {
     "name": "stdout",
     "output_type": "stream",
     "text": [
      "El pimer valor es 1\n",
      "El segundo valor es 2\n",
      "arg = 3\n",
      "arg = 4\n",
      "arg = 5\n",
      "a = 1\n",
      "b = 2\n",
      "c = 3\n"
     ]
    }
   ],
   "source": [
    "def prueba(num1, num2, *args, **kwargs):\n",
    "    print(f'El pimer valor es {num1}')\n",
    "    print(f'El segundo valor es {num2}')\n",
    "    for valor in args:\n",
    "        print(f'arg = {valor}')\n",
    "    for clave, valor in kwargs.items():\n",
    "        print(f'{clave} = {valor}')\n",
    "    \n",
    "args = (3, 4, 5)\n",
    "kwargs = {'a': 1, 'b': 2, 'c': 3}\n",
    "\n",
    "prueba(1, 2, *args, **kwargs)"
   ]
  }
 ],
 "metadata": {
  "kernelspec": {
   "display_name": "Python 3",
   "language": "python",
   "name": "python3"
  },
  "language_info": {
   "codemirror_mode": {
    "name": "ipython",
    "version": 3
   },
   "file_extension": ".py",
   "mimetype": "text/x-python",
   "name": "python",
   "nbconvert_exporter": "python",
   "pygments_lexer": "ipython3",
   "version": "3.11.9"
  }
 },
 "nbformat": 4,
 "nbformat_minor": 2
}
