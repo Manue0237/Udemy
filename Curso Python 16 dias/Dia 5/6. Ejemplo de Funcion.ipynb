{
 "cells": [
  {
   "cell_type": "code",
   "execution_count": 1,
   "metadata": {},
   "outputs": [
    {
     "name": "stdout",
     "output_type": "stream",
     "text": [
      "('Capuchino', 2.5)\n",
      "('Espresso', 1.5)\n",
      "('Americano', 2.0)\n",
      "('Cafe con leche', 2.0)\n",
      "('Mocca', 3.0)\n"
     ]
    }
   ],
   "source": [
    "precios_cafe=[('Capuchino', 2.5), ('Espresso', 1.5), ('Americano', 2.0), ('Cafe con leche', 2.0), ('Mocca', 3.0)]\n",
    "\n",
    "for elemento in precios_cafe:\n",
    "    print(elemento)"
   ]
  },
  {
   "cell_type": "code",
   "execution_count": 2,
   "metadata": {},
   "outputs": [
    {
     "name": "stdout",
     "output_type": "stream",
     "text": [
      "Capuchino\n",
      "Espresso\n",
      "Americano\n",
      "Cafe con leche\n",
      "Mocca\n"
     ]
    }
   ],
   "source": [
    "precios_cafe=[('Capuchino', 2.5), ('Espresso', 1.5), ('Americano', 2.0), ('Cafe con leche', 2.0), ('Mocca', 3.0)]\n",
    "\n",
    "for cafe,precio in precios_cafe:\n",
    "    print(cafe)"
   ]
  },
  {
   "cell_type": "code",
   "execution_count": 3,
   "metadata": {},
   "outputs": [
    {
     "name": "stdout",
     "output_type": "stream",
     "text": [
      "1.125\n",
      "0.675\n",
      "0.9\n",
      "0.9\n",
      "1.35\n"
     ]
    }
   ],
   "source": [
    "precios_cafe=[('Capuchino', 2.5), ('Espresso', 1.5), ('Americano', 2.0), ('Cafe con leche', 2.0), ('Mocca', 3.0)]\n",
    "\n",
    "for cafe,precio in precios_cafe:\n",
    "    print(precio*0.45)"
   ]
  },
  {
   "cell_type": "code",
   "execution_count": 6,
   "metadata": {},
   "outputs": [
    {
     "name": "stdout",
     "output_type": "stream",
     "text": [
      "('Mocca', 10.0)\n"
     ]
    }
   ],
   "source": [
    "precios_cafe=[('Capuchino', 2.5), ('Espresso', 1.5), ('Americano', 2.0), ('Cafe con leche', 2.0), ('Mocca', 3.0)]\n",
    "\n",
    "\n",
    "def cafe_mas_caro(lista_pecios):\n",
    "    precio_max=0\n",
    "    cafe_mas_caro=''\n",
    "    for cafe,precio in lista_pecios:\n",
    "        if precio>precio_max:\n",
    "            precio_max=precio\n",
    "            cafe_mas_caro=cafe\n",
    "        else:\n",
    "            pass\n",
    "    return cafe_mas_caro, precio_max\n",
    "\n",
    "\n",
    "\n",
    "\n",
    "print(cafe_mas_caro(precios_cafe))"
   ]
  },
  {
   "cell_type": "code",
   "execution_count": 8,
   "metadata": {},
   "outputs": [
    {
     "name": "stdout",
     "output_type": "stream",
     "text": [
      "El cafe mas caro es Mocca y cuesta 3.0 euros\n"
     ]
    }
   ],
   "source": [
    "\n",
    "precios_cafe=[('Capuchino', 2.5), ('Espresso', 1.5), ('Americano', 2.0), ('Cafe con leche', 2.0), ('Mocca', 3.0)]\n",
    "\n",
    "\n",
    "def cafe_mas_caro(lista_pecios):\n",
    "    precio_max=0\n",
    "    cafe_mas_caro=''\n",
    "    for cafe,precio in lista_pecios:\n",
    "        if precio>precio_max:\n",
    "            precio_max=precio\n",
    "            cafe_mas_caro=cafe\n",
    "        else:\n",
    "            pass\n",
    "    return cafe_mas_caro, precio_max\n",
    "\n",
    "cafe, precio= cafe_mas_caro(precios_cafe)\n",
    "\n",
    "print(f'El cafe mas caro es {cafe} y cuesta {precio} euros')"
   ]
  }
 ],
 "metadata": {
  "kernelspec": {
   "display_name": "Python 3",
   "language": "python",
   "name": "python3"
  },
  "language_info": {
   "codemirror_mode": {
    "name": "ipython",
    "version": 3
   },
   "file_extension": ".py",
   "mimetype": "text/x-python",
   "name": "python",
   "nbconvert_exporter": "python",
   "pygments_lexer": "ipython3",
   "version": "3.11.9"
  }
 },
 "nbformat": 4,
 "nbformat_minor": 2
}
