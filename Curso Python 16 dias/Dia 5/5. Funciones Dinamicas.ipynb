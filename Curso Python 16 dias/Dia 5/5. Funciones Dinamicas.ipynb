{
 "cells": [
  {
   "cell_type": "code",
   "execution_count": 2,
   "metadata": {},
   "outputs": [
    {
     "name": "stdout",
     "output_type": "stream",
     "text": [
      "True\n"
     ]
    }
   ],
   "source": [
    "def chequear_3_cifras(numero):\n",
    "    return numero in range(100, 1000)\n",
    "\n",
    "resultado = chequear_3_cifras(658)\n",
    "\n",
    "print(resultado) "
   ]
  },
  {
   "cell_type": "code",
   "execution_count": 3,
   "metadata": {},
   "outputs": [
    {
     "name": "stdout",
     "output_type": "stream",
     "text": [
      "False\n"
     ]
    }
   ],
   "source": [
    "def chequear_3_cifras(numero):\n",
    "    return numero in range(100, 1000)\n",
    "\n",
    "suma  = 10+85\n",
    "\n",
    "resultado = chequear_3_cifras(suma)\n",
    "\n",
    "print(resultado) "
   ]
  },
  {
   "cell_type": "code",
   "execution_count": 9,
   "metadata": {},
   "outputs": [
    {
     "name": "stdout",
     "output_type": "stream",
     "text": [
      "False\n"
     ]
    }
   ],
   "source": [
    "def chequear_3_cifras(lista):\n",
    "    for numero in lista:\n",
    "        if numero in range(100, 1000):\n",
    "            return True\n",
    "        else:\n",
    "            pass\n",
    "    return False\n",
    "\n",
    "\n",
    "resultado = chequear_3_cifras([555,99,600])\n",
    "\n",
    "print(resultado) "
   ]
  },
  {
   "cell_type": "code",
   "execution_count": 10,
   "metadata": {},
   "outputs": [
    {
     "name": "stdout",
     "output_type": "stream",
     "text": [
      "[555, 600]\n"
     ]
    }
   ],
   "source": [
    "def chequear_3_cifras(lista):\n",
    "    lista_3_cifras = []\n",
    "    for numero in lista:\n",
    "        if numero in range(100, 1000):\n",
    "            lista_3_cifras.append(numero)\n",
    "        else:\n",
    "            pass\n",
    "    return lista_3_cifras\n",
    "\n",
    "\n",
    "resultado = chequear_3_cifras([555,99,600])\n",
    "\n",
    "print(resultado) "
   ]
  }
 ],
 "metadata": {
  "kernelspec": {
   "display_name": "Python 3",
   "language": "python",
   "name": "python3"
  },
  "language_info": {
   "codemirror_mode": {
    "name": "ipython",
    "version": 3
   },
   "file_extension": ".py",
   "mimetype": "text/x-python",
   "name": "python",
   "nbconvert_exporter": "python",
   "pygments_lexer": "ipython3",
   "version": "3.11.9"
  }
 },
 "nbformat": 4,
 "nbformat_minor": 2
}
