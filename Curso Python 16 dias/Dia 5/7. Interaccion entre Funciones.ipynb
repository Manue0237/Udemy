{
 "cells": [
  {
   "cell_type": "code",
   "execution_count": 2,
   "metadata": {},
   "outputs": [
    {
     "name": "stdout",
     "output_type": "stream",
     "text": [
      "Esta vez te salvaste\n",
      "Te ha tocado -- palitos\n"
     ]
    }
   ],
   "source": [
    "from random import shuffle\n",
    "\n",
    "#Lista inicial\n",
    "palitos=['-','--','---','----']\n",
    "\n",
    "#Mezclar palitos\n",
    "def mezclar_palitos(lista):\n",
    "    shuffle(lista)\n",
    "    return lista\n",
    "\n",
    "#pedirle Intento\n",
    "def probar_suerte():\n",
    "    intento=''\n",
    "    while intento not in['1','2','3','4']:\n",
    "        intento=input('Ingrese un numero del 1 al 4: ')\n",
    "    return int(intento)\n",
    "\n",
    "#Comprobar intento\n",
    "def chequear_intento(lista, intento):\n",
    "    if lista[intento-1]=='-':\n",
    "        print('A lavar los platos')\n",
    "    else:\n",
    "        print('Esta vez te salvaste')\n",
    "    \n",
    "    print(f'Te ha tocado {lista[intento-1]} palitos')\n",
    "\n",
    "\n",
    "\n",
    "palitos_mezcaldos=mezclar_palitos(palitos)\n",
    "seleccion=probar_suerte()\n",
    "chequear_intento(palitos_mezcaldos, seleccion)\n",
    "\n",
    "\n"
   ]
  },
  {
   "cell_type": "code",
   "execution_count": null,
   "metadata": {},
   "outputs": [],
   "source": [
    "import random\n",
    "\n",
    "\n",
    "def lanzar_dados():\n",
    "    n1 = random.randint(1,6)\n",
    "    n2 = random.randint(1,6)\n",
    "    return n1,n2\n",
    "\n",
    "\n",
    "def evaluar_jugada ():\n",
    "    n1,n2=lanzar_dados()\n",
    "    suma_dados=n1+n2\n",
    "    if suma_dados<=6:\n",
    "        print (f\"La suma de tus dados es {suma_dados} Lamentable\")\n",
    "    elif suma_dados>6 and suma_dados<10:\n",
    "        print(f\"La suma de tus dados es {suma_dados}. Tienes buenas chances\")\n",
    "    else:\n",
    "        print(f\"La suma de tus dados es {suma_dados}. Parece una jugada ganadora\")\n",
    "\n",
    "evaluar_jugada()"
   ]
  },
  {
   "cell_type": "code",
   "execution_count": 9,
   "metadata": {},
   "outputs": [
    {
     "name": "stdout",
     "output_type": "stream",
     "text": [
      "None\n"
     ]
    }
   ],
   "source": [
    "lista_numeros=[1,2,7,2]\n",
    "valor_maximo=max(lista_numeros)\n",
    "print(lista_numeros.remove(7))"
   ]
  }
 ],
 "metadata": {
  "kernelspec": {
   "display_name": "Python 3",
   "language": "python",
   "name": "python3"
  },
  "language_info": {
   "codemirror_mode": {
    "name": "ipython",
    "version": 3
   },
   "file_extension": ".py",
   "mimetype": "text/x-python",
   "name": "python",
   "nbconvert_exporter": "python",
   "pygments_lexer": "ipython3",
   "version": "3.11.9"
  }
 },
 "nbformat": 4,
 "nbformat_minor": 2
}
