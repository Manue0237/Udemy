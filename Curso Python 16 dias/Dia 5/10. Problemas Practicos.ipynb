{
 "cells": [
  {
   "cell_type": "code",
   "execution_count": null,
   "metadata": {},
   "outputs": [],
   "source": [
    "def devolver_distintos(a, b, c):\n",
    "    suma=a+b+c\n",
    "    if suma>15:\n",
    "        return max(a,b,c)\n",
    "    elif suma<10:\n",
    "        return min(a,b,c)\n",
    "    elif 10<=suma<=15:\n",
    "        return suma-max(a,b,c)-min(a,b,c)\n"
   ]
  },
  {
   "cell_type": "code",
   "execution_count": 1,
   "metadata": {},
   "outputs": [],
   "source": [
    "def letras_unicas(palabra):\n",
    "    letras = sorted(set(palabra))\n",
    "    return letras"
   ]
  },
  {
   "cell_type": "code",
   "execution_count": null,
   "metadata": {},
   "outputs": [],
   "source": [
    "def validar_cero(*args):\n",
    "    cantidad_ceros=0\n",
    "    for i in args:\n",
    "        if i==0:\n",
    "            cantidad_ceros+=1\n",
    "    if cantidad_ceros>2:\n",
    "        return True\n",
    "    return False"
   ]
  },
  {
   "cell_type": "code",
   "execution_count": 17,
   "metadata": {},
   "outputs": [
    {
     "data": {
      "text/plain": [
       "(6, [2, 3, 5, 7, 11, 13])"
      ]
     },
     "execution_count": 17,
     "metadata": {},
     "output_type": "execute_result"
    }
   ],
   "source": [
    "def primo(num):\n",
    "    if num<2:\n",
    "        return False\n",
    "    for i in range(2,num):\n",
    "        if num%i==0:\n",
    "            return False\n",
    "    return True\n",
    "\n",
    "def contar_primos(valor):\n",
    "    lista=[]\n",
    "    cantidad_primos=0\n",
    "    for i in range(2,valor+1):\n",
    "        if primo(i):\n",
    "            lista.append(i)\n",
    "            cantidad_primos+=1\n",
    "    return cantidad_primos, lista\n",
    "\n",
    "contar_primos(13)"
   ]
  }
 ],
 "metadata": {
  "kernelspec": {
   "display_name": "Python 3",
   "language": "python",
   "name": "python3"
  },
  "language_info": {
   "codemirror_mode": {
    "name": "ipython",
    "version": 3
   },
   "file_extension": ".py",
   "mimetype": "text/x-python",
   "name": "python",
   "nbconvert_exporter": "python",
   "pygments_lexer": "ipython3",
   "version": "3.11.9"
  }
 },
 "nbformat": 4,
 "nbformat_minor": 2
}
