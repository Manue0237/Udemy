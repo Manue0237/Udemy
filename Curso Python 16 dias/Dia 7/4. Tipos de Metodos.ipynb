{
 "cells": [
  {
   "cell_type": "code",
   "execution_count": 7,
   "metadata": {},
   "outputs": [],
   "source": [
    "class pajaro:\n",
    "    alas= True\n",
    "\n",
    "    def __init__(self, color, especie):\n",
    "        self.color = color\n",
    "        self.especie = especie\n",
    "\n",
    "    def piar(self):\n",
    "        print(\"Pio Pio\")\n",
    "    \n",
    "    def volar(self, metros):\n",
    "        print(\"El pajaro vuela\", metros, \"metros\")\n",
    "        self.piar()\n",
    "\n",
    "    def pintar_negro(self):\n",
    "        self.color=\"negro\"\n",
    "        print(\"El pajaro ahora es \",self.color)\n",
    "    \n",
    "    @classmethod\n",
    "    def poner_huevos(cls, cantidad):\n",
    "        print(f\"Puso {cantidad} huevos\")\n",
    "    \n",
    "    @staticmethod\n",
    "    def mirar():\n",
    "        print(\"El pajaro mira\")\n",
    "\n",
    "piolin = pajaro(\"amarillo\", \"canario\")"
   ]
  },
  {
   "cell_type": "code",
   "execution_count": 8,
   "metadata": {},
   "outputs": [
    {
     "name": "stdout",
     "output_type": "stream",
     "text": [
      "El pajaro ahora es  negro\n"
     ]
    }
   ],
   "source": [
    "piolin=pajaro(\"amarillo\",\"negro\")\n",
    "\n",
    "piolin.pintar_negro()"
   ]
  },
  {
   "cell_type": "code",
   "execution_count": 9,
   "metadata": {},
   "outputs": [
    {
     "name": "stdout",
     "output_type": "stream",
     "text": [
      "El pajaro vuela 10 metros\n",
      "Pio Pio\n"
     ]
    }
   ],
   "source": [
    "piolin.volar(10)"
   ]
  },
  {
   "cell_type": "code",
   "execution_count": 10,
   "metadata": {},
   "outputs": [
    {
     "data": {
      "text/plain": [
       "False"
      ]
     },
     "execution_count": 10,
     "metadata": {},
     "output_type": "execute_result"
    }
   ],
   "source": [
    "piolin.alas=False\n",
    "\n",
    "piolin.alas"
   ]
  },
  {
   "cell_type": "code",
   "execution_count": 11,
   "metadata": {},
   "outputs": [
    {
     "name": "stdout",
     "output_type": "stream",
     "text": [
      "Puso 10 huevos\n"
     ]
    }
   ],
   "source": [
    "pajaro.poner_huevos(10)"
   ]
  },
  {
   "cell_type": "code",
   "execution_count": 12,
   "metadata": {},
   "outputs": [
    {
     "name": "stdout",
     "output_type": "stream",
     "text": [
      "El pajaro mira\n"
     ]
    }
   ],
   "source": [
    "pajaro.mirar()"
   ]
  },
  {
   "cell_type": "markdown",
   "metadata": {},
   "source": [
    "Ejercicios"
   ]
  },
  {
   "cell_type": "code",
   "execution_count": null,
   "metadata": {},
   "outputs": [],
   "source": [
    "class Mascota:\n",
    "    @staticmethod\n",
    "    def respirar():\n",
    "        print(\"Inhalar... Exhalar\")"
   ]
  },
  {
   "cell_type": "code",
   "execution_count": null,
   "metadata": {},
   "outputs": [],
   "source": [
    "class Jugador:\n",
    "    vivo = False\n",
    "\n",
    "    @classmethod\n",
    "    def revivir(cls):\n",
    "        cls.vivo = True"
   ]
  },
  {
   "cell_type": "code",
   "execution_count": null,
   "metadata": {},
   "outputs": [],
   "source": [
    "class Personaje:\n",
    "    def __init__(self, cantidad_flechas):\n",
    "        self.cantidad_flechas = cantidad_flechas\n",
    "\n",
    "    def lanzar_flecha(self):\n",
    "        self.cantidad_flechas -= 1"
   ]
  }
 ],
 "metadata": {
  "kernelspec": {
   "display_name": "Python 3",
   "language": "python",
   "name": "python3"
  },
  "language_info": {
   "codemirror_mode": {
    "name": "ipython",
    "version": 3
   },
   "file_extension": ".py",
   "mimetype": "text/x-python",
   "name": "python",
   "nbconvert_exporter": "python",
   "pygments_lexer": "ipython3",
   "version": "3.11.9"
  }
 },
 "nbformat": 4,
 "nbformat_minor": 2
}
