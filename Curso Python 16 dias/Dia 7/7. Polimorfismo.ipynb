{
 "cells": [
  {
   "cell_type": "code",
   "execution_count": 5,
   "metadata": {},
   "outputs": [
    {
     "name": "stdout",
     "output_type": "stream",
     "text": [
      "Aurora hace muuuu\n",
      "Dolly hace beeeeee\n"
     ]
    }
   ],
   "source": [
    "class vaca:\n",
    "    def __init__(self, nombre):\n",
    "        self.nombre = nombre\n",
    "    \n",
    "    def hablar(self):\n",
    "        print(f\"{self.nombre} hace muuuu\")\n",
    "\n",
    "\n",
    "class oveja:\n",
    "\n",
    "    def __init__(self, nombre):\n",
    "        self.nombre = nombre\n",
    "\n",
    "    def hablar(self):\n",
    "        print(f\"{self.nombre} hace beeeeee\")\n",
    "\n",
    "\n",
    "\n",
    "vaca1 = vaca(\"Aurora\")\n",
    "oveja1 = oveja(\"Dolly\")\n",
    "\n",
    "vaca1.hablar()\n",
    "oveja1.hablar()\n"
   ]
  },
  {
   "cell_type": "code",
   "execution_count": 7,
   "metadata": {},
   "outputs": [
    {
     "name": "stdout",
     "output_type": "stream",
     "text": [
      "Aurora hace muuuu\n",
      "Dolly hace beeeeee\n"
     ]
    }
   ],
   "source": [
    "class vaca:\n",
    "    def __init__(self, nombre):\n",
    "        self.nombre = nombre\n",
    "    \n",
    "    def hablar(self):\n",
    "        print(f\"{self.nombre} hace muuuu\")\n",
    "\n",
    "\n",
    "class oveja:\n",
    "\n",
    "    def __init__(self, nombre):\n",
    "        self.nombre = nombre\n",
    "\n",
    "    def hablar(self):\n",
    "        print(f\"{self.nombre} hace beeeeee\")\n",
    "\n",
    "\n",
    "\n",
    "vaca1 = vaca(\"Aurora\")\n",
    "oveja1 = oveja(\"Dolly\")\n",
    "\n",
    "animales = [vaca1, oveja1]\n",
    "\n",
    "\n",
    "for animal in animales:\n",
    "    animal.hablar()"
   ]
  },
  {
   "cell_type": "code",
   "execution_count": 9,
   "metadata": {},
   "outputs": [
    {
     "name": "stdout",
     "output_type": "stream",
     "text": [
      "Aurora hace muuuu\n",
      "Dolly hace beeeeee\n"
     ]
    }
   ],
   "source": [
    "class vaca:\n",
    "    def __init__(self, nombre):\n",
    "        self.nombre = nombre\n",
    "    \n",
    "    def hablar(self):\n",
    "        print(f\"{self.nombre} hace muuuu\")\n",
    "\n",
    "\n",
    "class oveja:\n",
    "\n",
    "    def __init__(self, nombre):\n",
    "        self.nombre = nombre\n",
    "\n",
    "    def hablar(self):\n",
    "        print(f\"{self.nombre} hace beeeeee\")\n",
    "\n",
    "\n",
    "\n",
    "vaca1 = vaca(\"Aurora\")\n",
    "oveja1 = oveja(\"Dolly\")\n",
    "\n",
    "\n",
    "def animal_hablar(animal):\n",
    "    animal.hablar()\n",
    "\n",
    "\n",
    "animal_hablar(vaca1)\n",
    "animal_hablar(oveja1)"
   ]
  },
  {
   "cell_type": "markdown",
   "metadata": {},
   "source": [
    "Ejercicios"
   ]
  },
  {
   "cell_type": "code",
   "execution_count": 10,
   "metadata": {},
   "outputs": [
    {
     "name": "stdout",
     "output_type": "stream",
     "text": [
      "La longitud de polimorfismo es 12\n",
      "La longitud de ['Clases', 'POO', 'Polimorfismo'] es 3\n",
      "La longitud de (1, 2, 3, 80) es 4\n"
     ]
    }
   ],
   "source": [
    "palabra = \"polimorfismo\"\n",
    "lista = [\"Clases\", \"POO\", \"Polimorfismo\"]\n",
    "tupla = (1, 2, 3, 80)\n",
    "\n",
    "\n",
    "objetos = [palabra, lista, tupla]\n",
    "\n",
    "for obj in objetos:\n",
    "    print(f\"La longitud de {obj} es {len(obj)}\")"
   ]
  },
  {
   "cell_type": "code",
   "execution_count": 11,
   "metadata": {},
   "outputs": [
    {
     "name": "stdout",
     "output_type": "stream",
     "text": [
      "Ataque mágico\n",
      "Lanzamiento de flecha\n",
      "Ataque con katana\n"
     ]
    }
   ],
   "source": [
    "class Mago():\n",
    "    def atacar(self):\n",
    "        print(\"Ataque mágico\")\n",
    "\n",
    "class Arquero():\n",
    "    def atacar(self):\n",
    "        print(\"Lanzamiento de flecha\")\n",
    "\n",
    "class Samurai():\n",
    "    def atacar(self):\n",
    "        print(\"Ataque con katana\")\n",
    "        \n",
    "personajes = [Mago(), Arquero(), Samurai()]\n",
    "\n",
    "for personaje in personajes:\n",
    "    personaje.atacar()"
   ]
  },
  {
   "cell_type": "code",
   "execution_count": null,
   "metadata": {},
   "outputs": [],
   "source": [
    "class Mago():\n",
    "    def defender(self):\n",
    "        print(\"Escudo mágico\")\n",
    "\n",
    "class Arquero():\n",
    "    def defender(self):\n",
    "        print(\"Esconderse\")\n",
    "\n",
    "class Samurai():\n",
    "    def defender(self):\n",
    "        print(\"Bloqueo\")\n",
    "        \n",
    "        \n",
    "def personaje_defender(Personaje):\n",
    "    Personaje.defender()"
   ]
  }
 ],
 "metadata": {
  "kernelspec": {
   "display_name": "Python 3",
   "language": "python",
   "name": "python3"
  },
  "language_info": {
   "codemirror_mode": {
    "name": "ipython",
    "version": 3
   },
   "file_extension": ".py",
   "mimetype": "text/x-python",
   "name": "python",
   "nbconvert_exporter": "python",
   "pygments_lexer": "ipython3",
   "version": "3.11.9"
  }
 },
 "nbformat": 4,
 "nbformat_minor": 2
}
