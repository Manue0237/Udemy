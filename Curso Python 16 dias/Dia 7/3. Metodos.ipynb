{
 "cells": [
  {
   "cell_type": "code",
   "execution_count": 3,
   "metadata": {},
   "outputs": [
    {
     "name": "stdout",
     "output_type": "stream",
     "text": [
      "Pio Pio, mi color es amarillo y soy un canario\n",
      "El pajaro vuela 10 metros\n"
     ]
    }
   ],
   "source": [
    "class pajaro:\n",
    "    alas= True\n",
    "\n",
    "    def __init__(self, color, especie):\n",
    "        self.color = color\n",
    "        self.especie = especie\n",
    "\n",
    "    def piar(self):\n",
    "        print(\"Pio Pio, mi color es\", self.color, \"y soy un\", self.especie)\n",
    "    \n",
    "    def volar(self, metros):\n",
    "        print(\"El pajaro vuela\", metros, \"metros\")\n",
    "\n",
    "\n",
    "piolin = pajaro(\"amarillo\", \"canario\")\n",
    "\n",
    "piolin.piar()\n",
    "\n",
    "piolin.volar(10)"
   ]
  },
  {
   "cell_type": "markdown",
   "metadata": {},
   "source": [
    "Ejercicios:"
   ]
  },
  {
   "cell_type": "code",
   "execution_count": 5,
   "metadata": {},
   "outputs": [],
   "source": [
    "class Perro:\n",
    "\n",
    "    def ladrar(self):\n",
    "        print(\"Guau!\")"
   ]
  },
  {
   "cell_type": "code",
   "execution_count": 6,
   "metadata": {},
   "outputs": [
    {
     "name": "stdout",
     "output_type": "stream",
     "text": [
      "¡Abracadabra!\n"
     ]
    }
   ],
   "source": [
    "class Mago:\n",
    "\n",
    "    def lanzar_hechizo(self):\n",
    "        print(\"¡Abracadabra!\")\n",
    "\n",
    "\n",
    "merlin = Mago()\n",
    "\n",
    "merlin.lanzar_hechizo()"
   ]
  },
  {
   "cell_type": "code",
   "execution_count": 7,
   "metadata": {},
   "outputs": [],
   "source": [
    "class Alarma:\n",
    "\n",
    "    def postergar_nimutos(self, cantidad_minutos):\n",
    "        print(f\"La alarma ha sido pospuesta {cantidad_minutos} minutos\")\n"
   ]
  }
 ],
 "metadata": {
  "kernelspec": {
   "display_name": "Python 3",
   "language": "python",
   "name": "python3"
  },
  "language_info": {
   "codemirror_mode": {
    "name": "ipython",
    "version": 3
   },
   "file_extension": ".py",
   "mimetype": "text/x-python",
   "name": "python",
   "nbconvert_exporter": "python",
   "pygments_lexer": "ipython3",
   "version": "3.11.9"
  }
 },
 "nbformat": 4,
 "nbformat_minor": 2
}
