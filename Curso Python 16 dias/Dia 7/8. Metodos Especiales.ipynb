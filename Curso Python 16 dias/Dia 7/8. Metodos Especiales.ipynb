{
 "cells": [
  {
   "cell_type": "code",
   "execution_count": 1,
   "metadata": {},
   "outputs": [
    {
     "name": "stdout",
     "output_type": "stream",
     "text": [
      "7\n"
     ]
    }
   ],
   "source": [
    "mi_lista =[1,1,1,1,1,1,1]\n",
    "\n",
    "print(len(mi_lista))"
   ]
  },
  {
   "cell_type": "code",
   "execution_count": 2,
   "metadata": {},
   "outputs": [
    {
     "name": "stdout",
     "output_type": "stream",
     "text": [
      "<__main__.objeto object at 0x000002724D49E4D0>\n"
     ]
    }
   ],
   "source": [
    "class objeto:\n",
    "    pass\n",
    "\n",
    "\n",
    "mi_objeto = objeto() \n",
    "\n",
    "print(len(mi_objeto)) # no se puede hacer len de un objeto\n"
   ]
  },
  {
   "cell_type": "code",
   "execution_count": 7,
   "metadata": {},
   "outputs": [
    {
     "name": "stdout",
     "output_type": "stream",
     "text": [
      "Album The Dark Side of the Moon de Pink Floyd\n",
      "10\n",
      "Se ha borrado el CD\n"
     ]
    }
   ],
   "source": [
    "class CD:\n",
    "    def __init__(self, autor, titulo, canciones):\n",
    "        self.autor = autor\n",
    "        self.titulo = titulo\n",
    "        self.canciones = canciones\n",
    "\n",
    "    def __str__ (self):\n",
    "        return f\"Album {self.titulo} de {self.autor}\"\n",
    "    \n",
    "    def __len__(self):\n",
    "        return self.canciones\n",
    "    \n",
    "    def __del__(self):\n",
    "        print(\"Se ha borrado el CD\")\n",
    "\n",
    "mi_CD=CD(\"Pink Floyd\", \"The Dark Side of the Moon\", 10)\n",
    "\n",
    "\n",
    "print(mi_CD)\n",
    "print(len(mi_CD))\n",
    "\n",
    "del mi_CD"
   ]
  }
 ],
 "metadata": {
  "kernelspec": {
   "display_name": "Python 3",
   "language": "python",
   "name": "python3"
  },
  "language_info": {
   "codemirror_mode": {
    "name": "ipython",
    "version": 3
   },
   "file_extension": ".py",
   "mimetype": "text/x-python",
   "name": "python",
   "nbconvert_exporter": "python",
   "pygments_lexer": "ipython3",
   "version": "3.11.9"
  }
 },
 "nbformat": 4,
 "nbformat_minor": 2
}
