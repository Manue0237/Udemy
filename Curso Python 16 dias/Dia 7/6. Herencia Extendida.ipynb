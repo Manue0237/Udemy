{
 "cells": [
  {
   "cell_type": "code",
   "execution_count": 4,
   "metadata": {},
   "outputs": [
    {
     "name": "stdout",
     "output_type": "stream",
     "text": [
      "Este animal a nacido\n",
      "Pio\n",
      "Este pajaro vuela 100 metros\n"
     ]
    }
   ],
   "source": [
    "class animal:\n",
    "    def __init__(self, edad, color):\n",
    "        self.edad = edad\n",
    "        self.color = color\n",
    "\n",
    "    def nacer(self):\n",
    "        print(\"Este animal a nacido\")\n",
    "        \n",
    "    def hablar(self):\n",
    "        print(\"Este animal hace ruido\")\n",
    "\n",
    "\n",
    "class pajaro(animal):\n",
    "\n",
    "    def __init__(self, edad, color, altura_vuelo):\n",
    "        super().__init__(edad, color)\n",
    "        self.altura_vuelo = altura_vuelo\n",
    "\n",
    "\n",
    "    def hablar(self): #sobreescritura de metodos de la clase padre animal\n",
    "        print(\"Pio\") # reemplaza el metodo hablar de la clase padre\n",
    "\n",
    "    def volar(self, metros):\n",
    "        print(\"Este pajaro vuela\", metros, \"metros\")\n",
    "\n",
    "piolin = pajaro(3,\"amarillo\", 60)\n",
    "\n",
    "mi_animal=animal(3,\"amarillo\")\n",
    "\n",
    "piolin.nacer()\n",
    "piolin.hablar()\n",
    "piolin.volar(100)\n"
   ]
  },
  {
   "cell_type": "code",
   "execution_count": 11,
   "metadata": {},
   "outputs": [
    {
     "name": "stdout",
     "output_type": "stream",
     "text": [
      "Hola\n",
      "Jajaja\n"
     ]
    },
    {
     "data": {
      "text/plain": [
       "(__main__.Nieto, __main__.Hijo, __main__.Padre, __main__.Madre, object)"
      ]
     },
     "execution_count": 11,
     "metadata": {},
     "output_type": "execute_result"
    }
   ],
   "source": [
    "class Padre:\n",
    "    def hablar(self):\n",
    "        print(\"Hola\")\n",
    "\n",
    "class Madre:\n",
    "    def reir(self):\n",
    "        print(\"Jajaja\")\n",
    "    def hablar(self):\n",
    "        print(\"Que ta\")\n",
    "\n",
    "class Hijo(Padre, Madre):\n",
    "    pass\n",
    "\n",
    "class Nieto(Hijo):\n",
    "    pass\n",
    "\n",
    "\n",
    "mi_nieto = Nieto()\n",
    "\n",
    "mi_nieto.hablar() #hereda el metodo hablar de la clase padre\n",
    "mi_nieto.reir() #hereda el metodo hablar de la clase madre\n",
    "\n",
    "\n",
    "Nieto.__mro__"
   ]
  },
  {
   "cell_type": "markdown",
   "metadata": {},
   "source": [
    "Ejercicios"
   ]
  },
  {
   "cell_type": "code",
   "execution_count": null,
   "metadata": {},
   "outputs": [],
   "source": [
    "class Vertebrado:\n",
    "    vertebrado = True\n",
    "\n",
    "class Ave(Vertebrado):\n",
    "    tiene_pico = True\n",
    "    def poner_huevos(self):\n",
    "        print(\"Poniendo huevos\")\n",
    "\n",
    "class Reptil(Vertebrado):\n",
    "    venenoso = True\n",
    "\n",
    "class Pez(Vertebrado):\n",
    "    def nadar(self):\n",
    "        print(\"Nadando\")\n",
    "    def poner_huevos(self):\n",
    "        print(\"Poniendo huevos\")\n",
    "\n",
    "class Mamifero(Vertebrado):\n",
    "    def caminar(self):\n",
    "        print(\"Caminando\")\n",
    "    def amamantar(self):\n",
    "        print(\"Amamantando crías\")\n",
    "\n",
    "class Ornitorrinco(Pez, Reptil, Ave, Mamifero):\n",
    "    def __init__(self):\n",
    "        self.venenoso = True\n",
    "        self.vertebrado = True\n",
    "\n",
    "\n"
   ]
  },
  {
   "cell_type": "code",
   "execution_count": null,
   "metadata": {},
   "outputs": [],
   "source": [
    "class Padre():\n",
    "    color_ojos = \"marrón\"\n",
    "    tipo_pelo = \"rulos\"\n",
    "    altura = \"media\"\n",
    "    voz = \"grave\"\n",
    "    deporte_preferido = \"tenis\"\n",
    "    def reir(self):\n",
    "        return \"Jajaja\"\n",
    "    def hobby(self):\n",
    "        return \"Pinto madera en mi tiempo libre\"\n",
    "    def caminar(self):\n",
    "        return \"Caminando con pasos largos y rápidos\"\n",
    "\n",
    "        \n",
    "class Hijo(Padre):\n",
    "    def hobby(self):\n",
    "        return \"Juego videojuegos en mi tiempo libre\""
   ]
  }
 ],
 "metadata": {
  "kernelspec": {
   "display_name": "Python 3",
   "language": "python",
   "name": "python3"
  },
  "language_info": {
   "codemirror_mode": {
    "name": "ipython",
    "version": 3
   },
   "file_extension": ".py",
   "mimetype": "text/x-python",
   "name": "python",
   "nbconvert_exporter": "python",
   "pygments_lexer": "ipython3",
   "version": "3.11.9"
  }
 },
 "nbformat": 4,
 "nbformat_minor": 2
}
