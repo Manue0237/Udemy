{
 "cells": [
  {
   "cell_type": "code",
   "execution_count": 9,
   "metadata": {},
   "outputs": [
    {
     "name": "stdout",
     "output_type": "stream",
     "text": [
      "(<class '__main__.animal'>,)\n",
      "[<class '__main__.pajaro'>]\n"
     ]
    }
   ],
   "source": [
    "class animal:\n",
    "    pass\n",
    "\n",
    "class pajaro(animal):\n",
    "    pass\n",
    "\n",
    "\n",
    "print(pajaro.__bases__)\n",
    "\n",
    "print(animal.__subclasses__())"
   ]
  },
  {
   "cell_type": "code",
   "execution_count": 10,
   "metadata": {},
   "outputs": [
    {
     "name": "stdout",
     "output_type": "stream",
     "text": [
      "Este animal a nacido\n"
     ]
    }
   ],
   "source": [
    "class animal:\n",
    "    def nacer(self):\n",
    "        print(\"Este animal a nacido\")\n",
    "\n",
    "class pajaro(animal):\n",
    "\n",
    "    pass\n",
    "\n",
    "piolin = pajaro()\n",
    "\n",
    "piolin.nacer()"
   ]
  },
  {
   "cell_type": "code",
   "execution_count": 11,
   "metadata": {},
   "outputs": [
    {
     "data": {
      "text/plain": [
       "'amarillo'"
      ]
     },
     "execution_count": 11,
     "metadata": {},
     "output_type": "execute_result"
    }
   ],
   "source": [
    "class animal:\n",
    "    def __init__(self, edad, color):\n",
    "        self.edad = edad\n",
    "        self.color = color\n",
    "    def nacer(self):\n",
    "        print(\"Este animal a nacido\")\n",
    "\n",
    "class pajaro(animal):\n",
    "\n",
    "    pass\n",
    "\n",
    "piolin = pajaro(2,\"amarillo\")\n",
    "\n",
    "piolin.color"
   ]
  },
  {
   "cell_type": "markdown",
   "metadata": {},
   "source": [
    "Ejercicios:"
   ]
  },
  {
   "cell_type": "code",
   "execution_count": null,
   "metadata": {},
   "outputs": [],
   "source": [
    "class Persona:\n",
    "    def __init__(self, nombre, edad):\n",
    "        self.nombre = nombre\n",
    "        self.edad = edad\n",
    "\n",
    "class Alumno(Persona):\n",
    "    pass\n",
    "\n",
    "# Ejemplo de uso\n",
    "persona = Persona(\"Juan\", 30)\n",
    "alumno = Alumno(\"Ana\", 20)\n",
    "\n",
    "print(persona.nombre, persona.edad)\n",
    "print(alumno.nombre, alumno.edad)"
   ]
  },
  {
   "cell_type": "code",
   "execution_count": null,
   "metadata": {},
   "outputs": [],
   "source": [
    "class Mascota:\n",
    "    def __init__(self, edad, nombre, cantidad_patas):\n",
    "        self.edad = edad\n",
    "        self.nombre = nombre\n",
    "        self.cantidad_patas = cantidad_patas\n",
    "\n",
    "class Perro(Mascota):\n",
    "    pass\n",
    "\n",
    "# Ejemplo de uso\n",
    "mi_perro = Perro(3, \"Firulais\", 4)\n",
    "print(mi_perro.nombre, mi_perro.edad, mi_perro.cantidad_patas)"
   ]
  },
  {
   "cell_type": "code",
   "execution_count": null,
   "metadata": {},
   "outputs": [],
   "source": [
    "class Vehiculo:\n",
    "    def acelerar(self):\n",
    "        pass\n",
    "\n",
    "    def frenar(self):\n",
    "        pass\n",
    "\n",
    "class Automovil(Vehiculo):\n",
    "    pass\n",
    "\n",
    "# Ejemplo de uso\n",
    "mi_auto = Automovil()\n",
    "mi_auto.acelerar()\n",
    "mi_auto.frenar()"
   ]
  }
 ],
 "metadata": {
  "kernelspec": {
   "display_name": "Python 3",
   "language": "python",
   "name": "python3"
  },
  "language_info": {
   "codemirror_mode": {
    "name": "ipython",
    "version": 3
   },
   "file_extension": ".py",
   "mimetype": "text/x-python",
   "name": "python",
   "nbconvert_exporter": "python",
   "pygments_lexer": "ipython3",
   "version": "3.11.9"
  }
 },
 "nbformat": 4,
 "nbformat_minor": 2
}
