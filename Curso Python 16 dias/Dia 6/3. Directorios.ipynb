{
 "cells": [
  {
   "cell_type": "code",
   "execution_count": 2,
   "metadata": {},
   "outputs": [],
   "source": [
    "import os"
   ]
  },
  {
   "cell_type": "code",
   "execution_count": 3,
   "metadata": {},
   "outputs": [
    {
     "name": "stdout",
     "output_type": "stream",
     "text": [
      "c:\\Users\\Manuel\\OneDrive\\Documentos\\VsCode\\Paola\\Curso Python 16 dias\\Dia 6\n"
     ]
    }
   ],
   "source": [
    "ruta = os.getcwd()\n",
    "\n",
    "print(ruta)"
   ]
  },
  {
   "cell_type": "code",
   "execution_count": 7,
   "metadata": {},
   "outputs": [
    {
     "name": "stdout",
     "output_type": "stream",
     "text": [
      "Soy la primera linea\n",
      "¡Vaya! ¡Yo soy la segunda!\n",
      "He quedado terceraSoy un nuevo texto\n"
     ]
    }
   ],
   "source": [
    "ruta = os.chdir('c:\\\\Users\\\\Manuel\\\\OneDrive\\\\Documentos\\\\VsCode\\\\Paola\\\\Curso Python 16 dias\\\\Dia 5')\n",
    "\n",
    "archivo = open('Prueba.txt')\n",
    "\n",
    "\n",
    "print(archivo.read())\n"
   ]
  },
  {
   "cell_type": "code",
   "execution_count": 8,
   "metadata": {},
   "outputs": [],
   "source": [
    "ruta = os.makedirs('c:\\\\Users\\\\Manuel\\\\OneDrive\\\\Documentos\\\\VsCode\\\\Paola\\\\Curso Python 16 dias\\\\Dia 6\\\\Carpeta1')"
   ]
  },
  {
   "cell_type": "code",
   "execution_count": 9,
   "metadata": {},
   "outputs": [
    {
     "name": "stdout",
     "output_type": "stream",
     "text": [
      "c:\\Users\\Manuel\\OneDrive\\Documentos\\VsCode\\Paola\\Curso Python 16 dias\\Dia 5\n"
     ]
    }
   ],
   "source": [
    "ruta='c:\\\\Users\\\\Manuel\\\\OneDrive\\\\Documentos\\\\VsCode\\\\Paola\\\\Curso Python 16 dias\\\\Dia 5\\\\Prueba.txt'\n",
    "\n",
    "elementos = os.path.dirname(ruta)\n",
    "\n",
    "\n",
    "print(elementos)"
   ]
  },
  {
   "cell_type": "code",
   "execution_count": 16,
   "metadata": {},
   "outputs": [
    {
     "name": "stdout",
     "output_type": "stream",
     "text": [
      "Prueba.txt\n"
     ]
    }
   ],
   "source": [
    "ruta='c:\\\\Users\\\\Manuel\\\\OneDrive\\\\Documentos\\\\VsCode\\\\Paola\\\\Curso Python 16 dias\\\\Dia 5\\\\Prueba.txt'\n",
    "\n",
    "elementos = os.path.basename(ruta)\n",
    "\n",
    "\n",
    "print(elementos)"
   ]
  },
  {
   "cell_type": "code",
   "execution_count": 10,
   "metadata": {},
   "outputs": [
    {
     "name": "stdout",
     "output_type": "stream",
     "text": [
      "('c:\\\\Users\\\\Manuel\\\\OneDrive\\\\Documentos\\\\VsCode\\\\Paola\\\\Curso Python 16 dias\\\\Dia 5', 'Prueba.txt')\n"
     ]
    }
   ],
   "source": [
    "ruta='c:\\\\Users\\\\Manuel\\\\OneDrive\\\\Documentos\\\\VsCode\\\\Paola\\\\Curso Python 16 dias\\\\Dia 5\\\\Prueba.txt'\n",
    "\n",
    "elementos = os.path.split(ruta)\n",
    "\n",
    "\n",
    "print(elementos)"
   ]
  },
  {
   "cell_type": "code",
   "execution_count": 11,
   "metadata": {},
   "outputs": [],
   "source": [
    "os.rmdir('c:\\\\Users\\\\Manuel\\\\OneDrive\\\\Documentos\\\\VsCode\\\\Paola\\\\Curso Python 16 dias\\\\Dia 6\\\\Carpeta1')\n",
    "\n"
   ]
  },
  {
   "cell_type": "code",
   "execution_count": 12,
   "metadata": {},
   "outputs": [
    {
     "name": "stdout",
     "output_type": "stream",
     "text": [
      "Soy la primera linea\n",
      "¡Vaya! ¡Yo soy la segunda!\n",
      "He quedado terceraSoy un nuevo texto\n"
     ]
    }
   ],
   "source": [
    "otro_archivo=open ('c:\\\\Users\\\\Manuel\\\\OneDrive\\\\Documentos\\\\VsCode\\\\Paola\\\\Curso Python 16 dias\\\\Dia 5\\\\Prueba.txt')\n",
    "\n",
    "print(otro_archivo.read())"
   ]
  },
  {
   "cell_type": "code",
   "execution_count": 13,
   "metadata": {},
   "outputs": [],
   "source": [
    "from pathlib import Path"
   ]
  },
  {
   "cell_type": "code",
   "execution_count": 15,
   "metadata": {},
   "outputs": [
    {
     "name": "stdout",
     "output_type": "stream",
     "text": [
      "Soy la primera linea\n",
      "¡Vaya! ¡Yo soy la segunda!\n",
      "He quedado terceraSoy un nuevo texto\n"
     ]
    }
   ],
   "source": [
    "carpeta=Path('c:/Users/Manuel/OneDrive/Documentos/VsCode/Paola/Curso Python 16 dias/Dia 5')\n",
    "\n",
    "archivo=carpeta / 'Prueba.txt'\n",
    "\n",
    "mi_archivo=open(archivo)\n",
    "\n",
    "print(mi_archivo.read())"
   ]
  }
 ],
 "metadata": {
  "kernelspec": {
   "display_name": "Python 3",
   "language": "python",
   "name": "python3"
  },
  "language_info": {
   "codemirror_mode": {
    "name": "ipython",
    "version": 3
   },
   "file_extension": ".py",
   "mimetype": "text/x-python",
   "name": "python",
   "nbconvert_exporter": "python",
   "pygments_lexer": "ipython3",
   "version": "3.11.9"
  }
 },
 "nbformat": 4,
 "nbformat_minor": 2
}
