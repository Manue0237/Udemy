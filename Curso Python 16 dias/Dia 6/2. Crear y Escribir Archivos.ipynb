{
 "cells": [
  {
   "cell_type": "code",
   "execution_count": 1,
   "metadata": {},
   "outputs": [
    {
     "data": {
      "text/plain": [
       "18"
      ]
     },
     "execution_count": 1,
     "metadata": {},
     "output_type": "execute_result"
    }
   ],
   "source": [
    "mi_archivo = open(\"Prueba.txt\", \"a\") #Abrir el archivo en modo lectura\n",
    "mi_archivo.write(\"Soy un nuevo texto\") "
   ]
  },
  {
   "cell_type": "code",
   "execution_count": 2,
   "metadata": {},
   "outputs": [
    {
     "data": {
      "text/plain": [
       "18"
      ]
     },
     "execution_count": 2,
     "metadata": {},
     "output_type": "execute_result"
    }
   ],
   "source": [
    "mi_archivo = open(\"Prueba1.txt\", \"w\") #Abrir el archivo en modo lectura\n",
    "mi_archivo.write(\"Soy un nuevo texto\") "
   ]
  },
  {
   "cell_type": "code",
   "execution_count": 3,
   "metadata": {},
   "outputs": [
    {
     "data": {
      "text/plain": [
       "5"
      ]
     },
     "execution_count": 3,
     "metadata": {},
     "output_type": "execute_result"
    }
   ],
   "source": [
    "mi_archivo = open(\"Prueba1.txt\", \"w\") #Abrir el archivo en modo lectura\n",
    "mi_archivo.write(\"Hola\\n\") \n",
    "mi_archivo.write(\"Mundo\") "
   ]
  },
  {
   "cell_type": "code",
   "execution_count": 4,
   "metadata": {},
   "outputs": [
    {
     "data": {
      "text/plain": [
       "21"
      ]
     },
     "execution_count": 4,
     "metadata": {},
     "output_type": "execute_result"
    }
   ],
   "source": [
    "mi_archivo = open(\"Prueba1.txt\", \"w\") #Abrir el archivo en modo lectura\n",
    "mi_archivo.write('''Hola\n",
    "mundo\n",
    "aqui\n",
    "estoy''') "
   ]
  },
  {
   "cell_type": "code",
   "execution_count": 5,
   "metadata": {},
   "outputs": [],
   "source": [
    "mi_archivo = open(\"Prueba1.txt\", \"w\") #Abrir el archivo en modo lectura\n",
    "mi_archivo.writelines([\"Hola\", \"Mundo\", \"Aqui\", \"Estoy\"])"
   ]
  },
  {
   "cell_type": "code",
   "execution_count": 6,
   "metadata": {},
   "outputs": [],
   "source": [
    "mi_archivo = open(\"Prueba1.txt\", \"w\") #Abrir el archivo en modo lectura\n",
    "lista=([\"Hola\", \"Mundo\", \"Aqui\", \"Estoy\"])\n",
    "\n",
    "for elemento in lista:\n",
    "    mi_archivo.write(elemento + \"\\n\")"
   ]
  },
  {
   "cell_type": "code",
   "execution_count": 7,
   "metadata": {},
   "outputs": [
    {
     "data": {
      "text/plain": [
       "19"
      ]
     },
     "execution_count": 7,
     "metadata": {},
     "output_type": "execute_result"
    }
   ],
   "source": [
    "mi_archivo = open(\"Prueba1.txt\", \"a\") #Abrir el archivo en modo lectura\n",
    "mi_archivo.write(\"Soy un nuevo texto2\") "
   ]
  },
  {
   "cell_type": "code",
   "execution_count": 8,
   "metadata": {},
   "outputs": [],
   "source": [
    "mi_archivo.close() #Cerrar el archivo"
   ]
  }
 ],
 "metadata": {
  "kernelspec": {
   "display_name": "Python 3",
   "language": "python",
   "name": "python3"
  },
  "language_info": {
   "codemirror_mode": {
    "name": "ipython",
    "version": 3
   },
   "file_extension": ".py",
   "mimetype": "text/x-python",
   "name": "python",
   "nbconvert_exporter": "python",
   "pygments_lexer": "ipython3",
   "version": "3.11.9"
  }
 },
 "nbformat": 4,
 "nbformat_minor": 2
}
