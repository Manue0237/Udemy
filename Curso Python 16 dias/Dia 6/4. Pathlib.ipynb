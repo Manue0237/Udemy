{
 "cells": [
  {
   "cell_type": "code",
   "execution_count": 8,
   "metadata": {},
   "outputs": [],
   "source": [
    "from pathlib import Path, PureWindowsPath"
   ]
  },
  {
   "cell_type": "code",
   "execution_count": 2,
   "metadata": {},
   "outputs": [
    {
     "name": "stdout",
     "output_type": "stream",
     "text": [
      "Soy la primera linea\n",
      "¡Vaya! ¡Yo soy la segunda!\n",
      "He quedado terceraSoy un nuevo texto\n"
     ]
    }
   ],
   "source": [
    "carpeta = Path(\"C:/Users/Manuel/OneDrive/Documentos/VsCode/Paola/Curso Python 16 dias/Dia 6/Pathlib/Prueba.txt\")\n",
    "\n",
    "print(carpeta.read_text())"
   ]
  },
  {
   "cell_type": "code",
   "execution_count": 4,
   "metadata": {},
   "outputs": [
    {
     "name": "stdout",
     "output_type": "stream",
     "text": [
      "Prueba.txt\n"
     ]
    }
   ],
   "source": [
    "carpeta = Path(\"C:/Users/Manuel/OneDrive/Documentos/VsCode/Paola/Curso Python 16 dias/Dia 6/Pathlib/Prueba.txt\")\n",
    "\n",
    "print(carpeta.name)"
   ]
  },
  {
   "cell_type": "code",
   "execution_count": 5,
   "metadata": {},
   "outputs": [
    {
     "name": "stdout",
     "output_type": "stream",
     "text": [
      ".txt\n"
     ]
    }
   ],
   "source": [
    "carpeta = Path(\"C:/Users/Manuel/OneDrive/Documentos/VsCode/Paola/Curso Python 16 dias/Dia 6/Pathlib/Prueba.txt\")\n",
    "\n",
    "print(carpeta.suffix)"
   ]
  },
  {
   "cell_type": "code",
   "execution_count": 6,
   "metadata": {},
   "outputs": [
    {
     "name": "stdout",
     "output_type": "stream",
     "text": [
      "Prueba\n"
     ]
    }
   ],
   "source": [
    "carpeta = Path(\"C:/Users/Manuel/OneDrive/Documentos/VsCode/Paola/Curso Python 16 dias/Dia 6/Pathlib/Prueba.txt\")\n",
    "\n",
    "print(carpeta.stem)"
   ]
  },
  {
   "cell_type": "code",
   "execution_count": 7,
   "metadata": {},
   "outputs": [
    {
     "name": "stdout",
     "output_type": "stream",
     "text": [
      "El archivo no existe\n"
     ]
    }
   ],
   "source": [
    "carpeta = Path(\"C:/Users/Manuel/OneDrive/Documentos/VsCode/Paola/Curso Python 16 dias/Dia 6/Pathlib/Pruebas.txt\")\n",
    "\n",
    "if not carpeta.exists():\n",
    "    print(\"El archivo no existe\")\n",
    "else:\n",
    "    print(\"El archivo existe\")"
   ]
  },
  {
   "cell_type": "code",
   "execution_count": 9,
   "metadata": {},
   "outputs": [
    {
     "name": "stdout",
     "output_type": "stream",
     "text": [
      "C:\\Users\\Manuel\\OneDrive\\Documentos\\VsCode\\Paola\\Curso Python 16 dias\\Dia 6\\Pathlib\\Prueba.txt\n"
     ]
    }
   ],
   "source": [
    "carpeta = Path(\"C:/Users/Manuel/OneDrive/Documentos/VsCode/Paola/Curso Python 16 dias/Dia 6/Pathlib/Prueba.txt\")\n",
    "\n",
    "ruta_windows = PureWindowsPath(carpeta)\n",
    "\n",
    "print(ruta_windows)\n",
    "\n"
   ]
  }
 ],
 "metadata": {
  "kernelspec": {
   "display_name": "Python 3",
   "language": "python",
   "name": "python3"
  },
  "language_info": {
   "codemirror_mode": {
    "name": "ipython",
    "version": 3
   },
   "file_extension": ".py",
   "mimetype": "text/x-python",
   "name": "python",
   "nbconvert_exporter": "python",
   "pygments_lexer": "ipython3",
   "version": "3.11.9"
  }
 },
 "nbformat": 4,
 "nbformat_minor": 2
}
