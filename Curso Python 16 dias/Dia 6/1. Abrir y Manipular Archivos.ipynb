{
 "cells": [
  {
   "cell_type": "code",
   "execution_count": 22,
   "metadata": {},
   "outputs": [],
   "source": [
    "mi_archivo= open('Prueba.txt')"
   ]
  },
  {
   "cell_type": "code",
   "execution_count": 23,
   "metadata": {},
   "outputs": [
    {
     "name": "stdout",
     "output_type": "stream",
     "text": [
      "<_io.TextIOWrapper name='Prueba.txt' mode='r' encoding='cp1252'>\n"
     ]
    }
   ],
   "source": [
    "print(mi_archivo)"
   ]
  },
  {
   "cell_type": "code",
   "execution_count": 43,
   "metadata": {},
   "outputs": [
    {
     "name": "stdout",
     "output_type": "stream",
     "text": [
      "Soy la primera linea\n",
      "¡Vaya! ¡Yo soy la segunda!\n",
      "He quedado tercera\n"
     ]
    }
   ],
   "source": [
    "mi_archivo= open('Prueba.txt')\n",
    "print(mi_archivo.read())"
   ]
  },
  {
   "cell_type": "code",
   "execution_count": 35,
   "metadata": {},
   "outputs": [
    {
     "name": "stdout",
     "output_type": "stream",
     "text": [
      "Soy la primera linea\n",
      "\n",
      "Soy la primera linea\n",
      "\n",
      "Soy la primera linea\n",
      "\n"
     ]
    }
   ],
   "source": [
    "mi_archivo= open('Prueba.txt')\n",
    "print(mi_archivo.readline())\n",
    "\n",
    "mi_archivo= open('Prueba.txt')\n",
    "print(mi_archivo.readline())\n",
    "\n",
    "mi_archivo= open('Prueba.txt')\n",
    "print(mi_archivo.readline())\n"
   ]
  },
  {
   "cell_type": "code",
   "execution_count": 37,
   "metadata": {},
   "outputs": [
    {
     "name": "stdout",
     "output_type": "stream",
     "text": [
      "Soy la primera linea\n",
      "\n",
      "¡Vaya! ¡Yo soy la segunda!\n",
      "\n",
      "He quedado tercera\n"
     ]
    }
   ],
   "source": [
    "mi_archivo= open('Prueba.txt')\n",
    "print(mi_archivo.readline())\n",
    "\n",
    "\n",
    "print(mi_archivo.readline())\n",
    "\n",
    "\n",
    "print(mi_archivo.readline())"
   ]
  },
  {
   "cell_type": "code",
   "execution_count": 36,
   "metadata": {},
   "outputs": [
    {
     "name": "stdout",
     "output_type": "stream",
     "text": [
      "Soy la primera linea\n",
      "\n",
      "¡Vaya! ¡Yo soy la segunda!\n",
      "He quedado tercera\n"
     ]
    }
   ],
   "source": [
    "mi_archivo= open('Prueba.txt')\n",
    "print(mi_archivo.readline())\n",
    "\n",
    "\n",
    "print(mi_archivo.readline().rstrip()) #rstrip elimina los espacios en blanco\n",
    "\n",
    "\n",
    "print(mi_archivo.readline())"
   ]
  },
  {
   "cell_type": "code",
   "execution_count": 39,
   "metadata": {},
   "outputs": [
    {
     "name": "stdout",
     "output_type": "stream",
     "text": [
      "SOY LA PRIMERA LINEA\n",
      "\n",
      "¡Vaya! ¡Yo soy la segunda!\n",
      "\n",
      "He quedado tercera\n"
     ]
    }
   ],
   "source": [
    "mi_archivo= open('Prueba.txt')\n",
    "print(mi_archivo.readline().upper())\n",
    "\n",
    "\n",
    "print(mi_archivo.readline())\n",
    "\n",
    "\n",
    "print(mi_archivo.readline())"
   ]
  },
  {
   "cell_type": "code",
   "execution_count": 41,
   "metadata": {},
   "outputs": [
    {
     "name": "stdout",
     "output_type": "stream",
     "text": [
      "Aqui dice:  Soy la primera linea\n",
      "\n",
      "Aqui dice:  ¡Vaya! ¡Yo soy la segunda!\n",
      "\n",
      "Aqui dice:  He quedado tercera\n"
     ]
    }
   ],
   "source": [
    "mi_archivo= open('Prueba.txt')\n",
    "\n",
    "for l in mi_archivo:\n",
    "    print(\"Aqui dice: \", l)"
   ]
  },
  {
   "cell_type": "code",
   "execution_count": 42,
   "metadata": {},
   "outputs": [
    {
     "name": "stdout",
     "output_type": "stream",
     "text": [
      "['Soy la primera linea\\n', '¡Vaya! ¡Yo soy la segunda!\\n', 'He quedado tercera']\n"
     ]
    }
   ],
   "source": [
    "mi_archivo= open('Prueba.txt')\n",
    "\n",
    "todas= mi_archivo.readlines() #lee todas las lineas y las guarda en una lista\n",
    "\n",
    "print(todas)"
   ]
  },
  {
   "cell_type": "code",
   "execution_count": 44,
   "metadata": {},
   "outputs": [
    {
     "name": "stdout",
     "output_type": "stream",
     "text": [
      "Soy la primera linea\n",
      "\n"
     ]
    }
   ],
   "source": [
    "print(todas[1])"
   ]
  },
  {
   "cell_type": "code",
   "execution_count": 31,
   "metadata": {},
   "outputs": [],
   "source": [
    "mi_archivo.close()"
   ]
  }
 ],
 "metadata": {
  "kernelspec": {
   "display_name": "Python 3",
   "language": "python",
   "name": "python3"
  },
  "language_info": {
   "codemirror_mode": {
    "name": "ipython",
    "version": 3
   },
   "file_extension": ".py",
   "mimetype": "text/x-python",
   "name": "python",
   "nbconvert_exporter": "python",
   "pygments_lexer": "ipython3",
   "version": "3.11.9"
  }
 },
 "nbformat": 4,
 "nbformat_minor": 2
}
