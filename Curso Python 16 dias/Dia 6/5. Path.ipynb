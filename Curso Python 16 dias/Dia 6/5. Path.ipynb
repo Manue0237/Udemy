{
 "cells": [
  {
   "cell_type": "code",
   "execution_count": 23,
   "metadata": {},
   "outputs": [],
   "source": [
    "from pathlib import Path"
   ]
  },
  {
   "cell_type": "code",
   "execution_count": 24,
   "metadata": {},
   "outputs": [
    {
     "name": "stdout",
     "output_type": "stream",
     "text": [
      "Barcelona\\SagradaFamilia.txt\n"
     ]
    }
   ],
   "source": [
    "guia=Path('Barcelona','SagradaFamilia.txt')\n",
    "print(guia)"
   ]
  },
  {
   "cell_type": "code",
   "execution_count": 25,
   "metadata": {},
   "outputs": [
    {
     "name": "stdout",
     "output_type": "stream",
     "text": [
      "C:\\Users\\Manuel\n"
     ]
    }
   ],
   "source": [
    "base=Path.home()\n",
    "\n",
    "print(base)"
   ]
  },
  {
   "cell_type": "code",
   "execution_count": 26,
   "metadata": {},
   "outputs": [
    {
     "name": "stdout",
     "output_type": "stream",
     "text": [
      "C:\\Users\\Manuel\\Barcelona\\SagradaFamilia.txt\n"
     ]
    }
   ],
   "source": [
    "guia=Path(base,'Barcelona','SagradaFamilia.txt')\n",
    "print(guia)"
   ]
  },
  {
   "cell_type": "code",
   "execution_count": 27,
   "metadata": {},
   "outputs": [
    {
     "name": "stdout",
     "output_type": "stream",
     "text": [
      "C:\\Users\\Manuel\\Europa\\España\\Barcelona\\SagradaFamilia.txt\n"
     ]
    }
   ],
   "source": [
    "guia=Path(base,\"Europa\",\"España\", Path('Barcelona','SagradaFamilia.txt'))\n",
    "print(guia)"
   ]
  },
  {
   "cell_type": "code",
   "execution_count": 28,
   "metadata": {},
   "outputs": [
    {
     "name": "stdout",
     "output_type": "stream",
     "text": [
      "C:\\Users\\Manuel\\Europa\\España\\Barcelona\\La_Pedrera.txt\n",
      "C:\\Users\\Manuel\\Europa\\España\\Barcelona\\SagradaFamilia.txt\n"
     ]
    }
   ],
   "source": [
    "guia2=guia.with_name('La_Pedrera.txt')\n",
    "print(guia2)\n",
    "print(guia)"
   ]
  },
  {
   "cell_type": "code",
   "execution_count": 29,
   "metadata": {},
   "outputs": [
    {
     "name": "stdout",
     "output_type": "stream",
     "text": [
      "C:\\Users\\Manuel\\Europa\\España\\Barcelona\n",
      "C:\\Users\\Manuel\\Europa\\España\n",
      "C:\\Users\\Manuel\\Europa\n"
     ]
    }
   ],
   "source": [
    "print(guia2.parent)\n",
    "print(guia2.parent.parent)\n",
    "print(guia2.parent.parent.parent)"
   ]
  },
  {
   "cell_type": "code",
   "execution_count": 30,
   "metadata": {},
   "outputs": [
    {
     "name": "stdout",
     "output_type": "stream",
     "text": [
      "C:\\Users\\Manuel\\Europa\\1 - copia - copia.txt\n",
      "C:\\Users\\Manuel\\Europa\\1 - copia.txt\n",
      "C:\\Users\\Manuel\\Europa\\1.txt\n"
     ]
    }
   ],
   "source": [
    "guia=Path(Path.home(),\"Europa\")\n",
    "\n",
    "for txt in guia.glob('*.txt'):\n",
    "    print(txt)"
   ]
  },
  {
   "cell_type": "code",
   "execution_count": 31,
   "metadata": {},
   "outputs": [
    {
     "name": "stdout",
     "output_type": "stream",
     "text": [
      "C:\\Users\\Manuel\\Europa\\1 - copia - copia.txt\n",
      "C:\\Users\\Manuel\\Europa\\1 - copia.txt\n",
      "C:\\Users\\Manuel\\Europa\\1.txt\n",
      "C:\\Users\\Manuel\\Europa\\España\\1 - copia - copia.txt\n",
      "C:\\Users\\Manuel\\Europa\\España\\1 - copia.txt\n",
      "C:\\Users\\Manuel\\Europa\\España\\1.txt\n"
     ]
    }
   ],
   "source": [
    "guia=Path(Path.home(),\"Europa\")\n",
    "\n",
    "for txt in guia.glob('**/*.txt'):\n",
    "    print(txt)"
   ]
  },
  {
   "cell_type": "code",
   "execution_count": 32,
   "metadata": {},
   "outputs": [
    {
     "name": "stdout",
     "output_type": "stream",
     "text": [
      "España\\Barcelona\\SagradaFamilia.txt\n",
      "Barcelona\\SagradaFamilia.txt\n"
     ]
    }
   ],
   "source": [
    "guia=Path(\"Europa\",\"España\", Path('Barcelona','SagradaFamilia.txt'))\n",
    "\n",
    "en_europa=guia.relative_to(\"Europa\")\n",
    "en_espania=guia.relative_to(\"Europa\",\"España\")\n",
    "\n",
    "print(en_europa)\n",
    "print(en_espania)"
   ]
  }
 ],
 "metadata": {
  "kernelspec": {
   "display_name": "Python 3",
   "language": "python",
   "name": "python3"
  },
  "language_info": {
   "codemirror_mode": {
    "name": "ipython",
    "version": 3
   },
   "file_extension": ".py",
   "mimetype": "text/x-python",
   "name": "python",
   "nbconvert_exporter": "python",
   "pygments_lexer": "ipython3",
   "version": "3.11.9"
  }
 },
 "nbformat": 4,
 "nbformat_minor": 2
}
