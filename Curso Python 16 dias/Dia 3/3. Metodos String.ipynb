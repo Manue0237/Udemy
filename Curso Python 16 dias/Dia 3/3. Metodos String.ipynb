{
 "cells": [
  {
   "cell_type": "code",
   "execution_count": 15,
   "metadata": {},
   "outputs": [],
   "source": [
    "texto=\"Este es el texto de Federico\""
   ]
  },
  {
   "cell_type": "code",
   "execution_count": 16,
   "metadata": {},
   "outputs": [
    {
     "name": "stdout",
     "output_type": "stream",
     "text": [
      "ESTE ES EL TEXTO DE FEDERICO\n"
     ]
    }
   ],
   "source": [
    "resultado=texto.upper()\n",
    "print(resultado)"
   ]
  },
  {
   "cell_type": "code",
   "execution_count": 17,
   "metadata": {},
   "outputs": [
    {
     "name": "stdout",
     "output_type": "stream",
     "text": [
      "este es el texto de federico\n",
      "t\n"
     ]
    }
   ],
   "source": [
    "resultado=texto.lower()\n",
    "print(resultado)\n",
    "resultado=texto[2].lower()\n",
    "print(resultado)"
   ]
  },
  {
   "cell_type": "code",
   "execution_count": 18,
   "metadata": {},
   "outputs": [
    {
     "name": "stdout",
     "output_type": "stream",
     "text": [
      "['Este', 'es', 'el', 'texto', 'de', 'Federico']\n",
      "['Es', 'e es el ', 'ex', 'o de Federico']\n"
     ]
    }
   ],
   "source": [
    "resultado=texto.split()\n",
    "print(resultado)\n",
    "resultado=texto.split(\"t\")\n",
    "print(resultado)"
   ]
  },
  {
   "cell_type": "code",
   "execution_count": 19,
   "metadata": {},
   "outputs": [
    {
     "name": "stdout",
     "output_type": "stream",
     "text": [
      "Aprender Python es genial\n"
     ]
    }
   ],
   "source": [
    "a=\"Aprender\"\n",
    "b=\"Python\"\n",
    "c=\"es\"\n",
    "d=\"genial\"\n",
    "e=\" \".join([a,b,c,d])\n",
    "print(e)"
   ]
  },
  {
   "cell_type": "code",
   "execution_count": 20,
   "metadata": {},
   "outputs": [
    {
     "name": "stdout",
     "output_type": "stream",
     "text": [
      "1\n",
      "-1\n"
     ]
    }
   ],
   "source": [
    "resultado=texto.find(\"s\")\n",
    "print(resultado)\n",
    "resultado=texto.find(\"g\") ## No existe\n",
    "print(resultado)"
   ]
  },
  {
   "cell_type": "code",
   "execution_count": 21,
   "metadata": {},
   "outputs": [
    {
     "name": "stdout",
     "output_type": "stream",
     "text": [
      "Este es el texto de Todos\n",
      "Estx xs xl txxto dx Fxdxrico\n"
     ]
    }
   ],
   "source": [
    "resultado=texto.replace(\"Federico\",\"Todos\")\n",
    "print(resultado)\n",
    "resultado=texto.replace(\"e\",\"x\")\n",
    "print(resultado)"
   ]
  }
 ],
 "metadata": {
  "kernelspec": {
   "display_name": "Python 3",
   "language": "python",
   "name": "python3"
  },
  "language_info": {
   "codemirror_mode": {
    "name": "ipython",
    "version": 3
   },
   "file_extension": ".py",
   "mimetype": "text/x-python",
   "name": "python",
   "nbconvert_exporter": "python",
   "pygments_lexer": "ipython3",
   "version": "3.11.9"
  }
 },
 "nbformat": 4,
 "nbformat_minor": 2
}
