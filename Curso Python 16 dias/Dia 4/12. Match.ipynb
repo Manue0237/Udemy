{
 "cells": [
  {
   "cell_type": "code",
   "execution_count": 1,
   "metadata": {},
   "outputs": [
    {
     "name": "stdout",
     "output_type": "stream",
     "text": [
      "Nokia\n"
     ]
    }
   ],
   "source": [
    "serie  ='N-02'\n",
    "\n",
    "if serie == 'N-01':\n",
    "    print('Samsung')\n",
    "elif serie == 'N-02':\n",
    "    print('Nokia')\n",
    "elif serie == 'N-03':\n",
    "    print('Motorola')\n",
    "else:\n",
    "    print('Serie no encontrada')"
   ]
  },
  {
   "cell_type": "code",
   "execution_count": 2,
   "metadata": {},
   "outputs": [
    {
     "name": "stdout",
     "output_type": "stream",
     "text": [
      "Nokia\n"
     ]
    }
   ],
   "source": [
    "serie  ='N-02'\n",
    "\n",
    "match serie:\n",
    "    case 'N-01':\n",
    "        print('Samsung')\n",
    "    case 'N-02':\n",
    "        print('Nokia')\n",
    "    case 'N-03':\n",
    "        print('Motorola')\n",
    "    case _:\n",
    "        print('Serie no encontrada')"
   ]
  },
  {
   "cell_type": "code",
   "execution_count": 3,
   "metadata": {},
   "outputs": [
    {
     "name": "stdout",
     "output_type": "stream",
     "text": [
      "Cliente: Juan de 25 años, ocupacion: Estudiante\n",
      "Pelicula: El padrino, dirigida por Francis Ford Coppola, protagonizada por Al Pacino\n",
      "Elemento no identificado: libro\n"
     ]
    }
   ],
   "source": [
    "cliente={'nombre':'Juan',\n",
    "         'edad':25,\n",
    "         'ocupacion':'Estudiante'}\n",
    "\n",
    "pelicula={'titulo':'El padrino',\n",
    "          'ficha_tecnica':{'director':'Francis Ford Coppola'\n",
    "                           ,'protagonista':'Al Pacino'}}\n",
    "\n",
    "elementos=[cliente,pelicula,'libro']\n",
    "\n",
    "\n",
    "for e in elementos:\n",
    "    match e:\n",
    "        case {'nombre':n, \n",
    "              'edad':e, \n",
    "              'ocupacion':o}:\n",
    "            print(f'Cliente: {n} de {e} años, ocupacion: {o}')\n",
    "        case {'titulo':t, \n",
    "              'ficha_tecnica':{'director':d, 'protagonista':p}}:\n",
    "            print(f'Pelicula: {t}, dirigida por {d}, protagonizada por {p}')\n",
    "        case _:\n",
    "            print(f'Elemento no identificado: {e}')\n"
   ]
  }
 ],
 "metadata": {
  "kernelspec": {
   "display_name": "Python 3",
   "language": "python",
   "name": "python3"
  },
  "language_info": {
   "codemirror_mode": {
    "name": "ipython",
    "version": 3
   },
   "file_extension": ".py",
   "mimetype": "text/x-python",
   "name": "python",
   "nbconvert_exporter": "python",
   "pygments_lexer": "ipython3",
   "version": "3.11.9"
  }
 },
 "nbformat": 4,
 "nbformat_minor": 2
}
