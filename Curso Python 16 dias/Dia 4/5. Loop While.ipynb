{
 "cells": [
  {
   "cell_type": "code",
   "execution_count": 3,
   "metadata": {},
   "outputs": [
    {
     "name": "stdout",
     "output_type": "stream",
     "text": [
      "Tengo 5 monedas\n",
      "Tengo 4 monedas\n",
      "Tengo 3 monedas\n",
      "Tengo 2 monedas\n",
      "Tengo 1 monedas\n",
      "No tengo mas dinero\n"
     ]
    }
   ],
   "source": [
    "moneda=5\n",
    "\n",
    "while moneda>0:\n",
    "    print(f\"Tengo {moneda} monedas\")\n",
    "    moneda-= 1\n",
    "else:\n",
    "    print (\"No tengo mas dinero\")"
   ]
  },
  {
   "cell_type": "code",
   "execution_count": 5,
   "metadata": {},
   "outputs": [
    {
     "name": "stdout",
     "output_type": "stream",
     "text": [
      "Gracias\n"
     ]
    }
   ],
   "source": [
    "respuesta='s'\n",
    "\n",
    "while respuesta=='s':\n",
    "    respuesta= input (\"Quieres seguir (S/N): \")\n",
    "else:\n",
    "    print (\"Gracias\")"
   ]
  },
  {
   "cell_type": "code",
   "execution_count": 7,
   "metadata": {},
   "outputs": [
    {
     "ename": "IndentationError",
     "evalue": "expected an indented block after 'while' statement on line 3 (1538501843.py, line 6)",
     "output_type": "error",
     "traceback": [
      "\u001b[1;36m  Cell \u001b[1;32mIn[7], line 6\u001b[1;36m\u001b[0m\n\u001b[1;33m    print (\"hola\")\u001b[0m\n\u001b[1;37m    ^\u001b[0m\n\u001b[1;31mIndentationError\u001b[0m\u001b[1;31m:\u001b[0m expected an indented block after 'while' statement on line 3\n"
     ]
    }
   ],
   "source": [
    "respuesta='s'\n",
    "\n",
    "while respuesta=='s':\n",
    "    pass \n",
    "\n",
    "print (\"hola\")"
   ]
  },
  {
   "cell_type": "code",
   "execution_count": 11,
   "metadata": {},
   "outputs": [],
   "source": [
    "nombre=input (\"Tu Nombre: \")\n",
    "\n",
    "for letra in nombre:\n",
    "    if letra=='m':\n",
    "        break\n",
    "    print (letra)\n"
   ]
  },
  {
   "cell_type": "code",
   "execution_count": 12,
   "metadata": {},
   "outputs": [
    {
     "name": "stdout",
     "output_type": "stream",
     "text": [
      "a\n",
      "n\n",
      "u\n",
      "e\n",
      "l\n"
     ]
    }
   ],
   "source": [
    "nombre=input (\"Tu Nombre: \")\n",
    "\n",
    "for letra in nombre:\n",
    "    if letra=='m':\n",
    "        continue\n",
    "    print (letra)\n"
   ]
  }
 ],
 "metadata": {
  "kernelspec": {
   "display_name": "Python 3",
   "language": "python",
   "name": "python3"
  },
  "language_info": {
   "codemirror_mode": {
    "name": "ipython",
    "version": 3
   },
   "file_extension": ".py",
   "mimetype": "text/x-python",
   "name": "python",
   "nbconvert_exporter": "python",
   "pygments_lexer": "ipython3",
   "version": "3.11.9"
  }
 },
 "nbformat": 4,
 "nbformat_minor": 2
}
