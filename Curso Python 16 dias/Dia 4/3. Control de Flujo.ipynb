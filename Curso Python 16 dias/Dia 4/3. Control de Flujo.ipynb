{
 "cells": [
  {
   "cell_type": "code",
   "execution_count": 1,
   "metadata": {},
   "outputs": [
    {
     "name": "stdout",
     "output_type": "stream",
     "text": [
      "Es Correcto\n"
     ]
    }
   ],
   "source": [
    "if 10 >9:\n",
    "    print(\"Es Correcto\")"
   ]
  },
  {
   "cell_type": "code",
   "execution_count": 4,
   "metadata": {},
   "outputs": [
    {
     "name": "stdout",
     "output_type": "stream",
     "text": [
      "Es Correcto\n"
     ]
    }
   ],
   "source": [
    "if True:\n",
    "    print(\"Es Correcto\")"
   ]
  },
  {
   "cell_type": "code",
   "execution_count": 5,
   "metadata": {},
   "outputs": [
    {
     "name": "stdout",
     "output_type": "stream",
     "text": [
      "Es Correcto\n"
     ]
    }
   ],
   "source": [
    "x=True\n",
    "\n",
    "if x:\n",
    "    print(\"Es Correcto\")"
   ]
  },
  {
   "cell_type": "code",
   "execution_count": 8,
   "metadata": {},
   "outputs": [
    {
     "name": "stdout",
     "output_type": "stream",
     "text": [
      "No es correcto\n"
     ]
    }
   ],
   "source": [
    "if 5==2:\n",
    "    print(\"Es Correcto\")\n",
    "else:\n",
    "    print(\"No es correcto\")"
   ]
  },
  {
   "cell_type": "code",
   "execution_count": 13,
   "metadata": {},
   "outputs": [
    {
     "name": "stdout",
     "output_type": "stream",
     "text": [
      "No se que animal tienes\n"
     ]
    }
   ],
   "source": [
    "mascota=\"conejo\"\n",
    "\n",
    "if mascota==\"gato\":\n",
    "    print(\"Tienes un gato\")\n",
    "elif mascota==\"perro\":\n",
    "    print(\"Tienes un perro\")\n",
    "elif mascota==\"pez\":\n",
    "    print(\"Tienes un pez\")\n",
    "else:\n",
    "    print(\"No se que animal tienes\")"
   ]
  },
  {
   "cell_type": "code",
   "execution_count": 14,
   "metadata": {},
   "outputs": [
    {
     "name": "stdout",
     "output_type": "stream",
     "text": [
      "Eres menor de edad\n",
      "Aprobado\n"
     ]
    }
   ],
   "source": [
    "edad=16\n",
    "calificacion=9\n",
    "\n",
    "if edad<18:\n",
    "    print(\"Eres menor de edad\")\n",
    "    if calificacion>=7:\n",
    "        print(\"Aprobado\")\n",
    "    else:\n",
    "        print(\"No aprobado\")\n",
    "else:\n",
    "    print(\"Eres adulto\")"
   ]
  }
 ],
 "metadata": {
  "kernelspec": {
   "display_name": "Python 3",
   "language": "python",
   "name": "python3"
  },
  "language_info": {
   "codemirror_mode": {
    "name": "ipython",
    "version": 3
   },
   "file_extension": ".py",
   "mimetype": "text/x-python",
   "name": "python",
   "nbconvert_exporter": "python",
   "pygments_lexer": "ipython3",
   "version": "3.11.9"
  }
 },
 "nbformat": 4,
 "nbformat_minor": 2
}
