{
 "cells": [
  {
   "cell_type": "code",
   "execution_count": 8,
   "metadata": {},
   "outputs": [
    {
     "name": "stdout",
     "output_type": "stream",
     "text": [
      "Letra: a\n",
      "Letra: b\n",
      "Letra: c\n"
     ]
    }
   ],
   "source": [
    "lista=['a','b','c']\n",
    "\n",
    "for letra in lista:\n",
    "    print(\"Letra: \" + letra)"
   ]
  },
  {
   "cell_type": "code",
   "execution_count": 9,
   "metadata": {},
   "outputs": [
    {
     "name": "stdout",
     "output_type": "stream",
     "text": [
      "Letra 1:a\n",
      "Letra 2:b\n",
      "Letra 3:c\n"
     ]
    }
   ],
   "source": [
    "lista=['a','b','c']\n",
    "\n",
    "for letra in lista:\n",
    "    numero_letra=lista.index(letra)+1\n",
    "    print(f\"Letra {numero_letra}:{letra}\")"
   ]
  },
  {
   "cell_type": "code",
   "execution_count": 11,
   "metadata": {},
   "outputs": [
    {
     "name": "stdout",
     "output_type": "stream",
     "text": [
      "Laura\n",
      "Luis\n"
     ]
    }
   ],
   "source": [
    "lista = [\"Pablo\",\"Laura\",\"Fede\",\"Luis\",\"Julia\"]\n",
    "\n",
    "for nombre in lista:\n",
    "    if nombre.startswith('L'):\n",
    "        print (nombre)\n",
    "    else:\n",
    "        print(\"Nombre que no tiene L\")"
   ]
  },
  {
   "cell_type": "code",
   "execution_count": 13,
   "metadata": {},
   "outputs": [
    {
     "name": "stdout",
     "output_type": "stream",
     "text": [
      "1\n",
      "3\n",
      "6\n",
      "10\n",
      "15\n"
     ]
    }
   ],
   "source": [
    "numeros=[1,2,3,4,5]\n",
    "mi_valor=0\n",
    "\n",
    "for numero in numeros:\n",
    "    mi_valor=mi_valor+numero\n",
    "\n",
    "    print(mi_valor)"
   ]
  },
  {
   "cell_type": "code",
   "execution_count": 15,
   "metadata": {},
   "outputs": [
    {
     "name": "stdout",
     "output_type": "stream",
     "text": [
      "p\n",
      "y\n",
      "t\n",
      "h\n",
      "o\n",
      "n\n",
      " \n",
      "e\n",
      "s\n",
      " \n",
      "g\n",
      "e\n",
      "n\n",
      "i\n",
      "a\n",
      "l\n"
     ]
    }
   ],
   "source": [
    "palabra= 'python es genial'\n",
    "\n",
    "for letra in palabra:\n",
    "    print(letra)"
   ]
  },
  {
   "cell_type": "code",
   "execution_count": 19,
   "metadata": {},
   "outputs": [
    {
     "name": "stdout",
     "output_type": "stream",
     "text": [
      "1\n",
      "2\n",
      "3\n",
      "4\n",
      "5\n",
      "6\n"
     ]
    }
   ],
   "source": [
    "for a,b in [[1,2],[3,4],[5,6]]:\n",
    "    print (a)\n",
    "    print(b)"
   ]
  },
  {
   "cell_type": "code",
   "execution_count": 21,
   "metadata": {},
   "outputs": [
    {
     "name": "stdout",
     "output_type": "stream",
     "text": [
      "clave1\n",
      "clave2\n",
      "clave3\n"
     ]
    }
   ],
   "source": [
    "dic={'clave1':'a','clave2':'b','clave3':'c'}\n",
    "\n",
    "for item in dic:\n",
    "    print(item)"
   ]
  },
  {
   "cell_type": "code",
   "execution_count": 23,
   "metadata": {},
   "outputs": [
    {
     "name": "stdout",
     "output_type": "stream",
     "text": [
      "a\n",
      "b\n",
      "c\n"
     ]
    }
   ],
   "source": [
    "for item in dic.values():\n",
    "    print(item)"
   ]
  },
  {
   "cell_type": "code",
   "execution_count": 25,
   "metadata": {},
   "outputs": [
    {
     "name": "stdout",
     "output_type": "stream",
     "text": [
      "clave1 a\n",
      "clave2 b\n",
      "clave3 c\n"
     ]
    }
   ],
   "source": [
    "for a,b in dic.items():\n",
    "    print(a,b)"
   ]
  }
 ],
 "metadata": {
  "kernelspec": {
   "display_name": "Python 3",
   "language": "python",
   "name": "python3"
  },
  "language_info": {
   "codemirror_mode": {
    "name": "ipython",
    "version": 3
   },
   "file_extension": ".py",
   "mimetype": "text/x-python",
   "name": "python",
   "nbconvert_exporter": "python",
   "pygments_lexer": "ipython3",
   "version": "3.11.9"
  }
 },
 "nbformat": 4,
 "nbformat_minor": 2
}
