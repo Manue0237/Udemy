{
 "cells": [
  {
   "cell_type": "code",
   "execution_count": 9,
   "metadata": {},
   "outputs": [
    {
     "name": "stdout",
     "output_type": "stream",
     "text": [
      "<zip object at 0x0000029AB715DE00>\n",
      "[('Ana', 22), ('Hugo', 21), ('Valeria', 23)]\n"
     ]
    }
   ],
   "source": [
    "nombres=['Ana','Hugo','Valeria']\n",
    "edades=[22,21,23]\n",
    "\n",
    "\n",
    "combinados=zip(nombres,edades)# solo llega a la lista mas corta\n",
    "print(combinados) # Asi no se puede ver el contenido de la variable\n",
    "print(list(combinados)) # Se convierte a lista para poder ver el contenido"
   ]
  },
  {
   "cell_type": "code",
   "execution_count": 10,
   "metadata": {},
   "outputs": [
    {
     "name": "stdout",
     "output_type": "stream",
     "text": [
      "[('Ana', 22), ('Hugo', 21), ('Valeria', 23)]\n"
     ]
    }
   ],
   "source": [
    "nombres=['Ana','Hugo','Valeria'] # 4 elementos\n",
    "edades=[22,21,23,55] # 5 elementos\n",
    "\n",
    "\n",
    "combinados=zip(nombres,edades)# solo llega a la lista mas corta\n",
    "\n",
    "print(list(combinados)) # Se convierte a lista para poder ver el contenido "
   ]
  },
  {
   "cell_type": "code",
   "execution_count": 11,
   "metadata": {},
   "outputs": [
    {
     "name": "stdout",
     "output_type": "stream",
     "text": [
      "Ana tiene 22 años y vive en Lima\n",
      "Hugo tiene 21 años y vive en Madrid\n",
      "Valeria tiene 23 años y vive en Mexico\n"
     ]
    }
   ],
   "source": [
    "nombres=['Ana','Hugo','Valeria'] \n",
    "edades=[22,21,23]\n",
    "ciudades=['Lima','Madrid','Mexico']\n",
    "\n",
    "combinados=zip(nombres,edades,ciudades)\n",
    "\n",
    "for nombre,edad,ciudad in combinados:\n",
    "    print(f'{nombre} tiene {edad} años y vive en {ciudad}')"
   ]
  }
 ],
 "metadata": {
  "kernelspec": {
   "display_name": "Python 3",
   "language": "python",
   "name": "python3"
  },
  "language_info": {
   "codemirror_mode": {
    "name": "ipython",
    "version": 3
   },
   "file_extension": ".py",
   "mimetype": "text/x-python",
   "name": "python",
   "nbconvert_exporter": "python",
   "pygments_lexer": "ipython3",
   "version": "3.11.9"
  }
 },
 "nbformat": 4,
 "nbformat_minor": 2
}
