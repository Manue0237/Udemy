{
 "cells": [
  {
   "cell_type": "code",
   "execution_count": 2,
   "metadata": {},
   "outputs": [
    {
     "name": "stdout",
     "output_type": "stream",
     "text": [
      "12\n",
      "96\n"
     ]
    }
   ],
   "source": [
    "menor=min(58,96,45,78,12)\n",
    "maximo=max(58,96,45,78,12)\n",
    "\n",
    "print(menor)\n",
    "print(maximo)"
   ]
  },
  {
   "cell_type": "code",
   "execution_count": 4,
   "metadata": {},
   "outputs": [
    {
     "name": "stdout",
     "output_type": "stream",
     "text": [
      "El menor es 12 y el mayor es 96\n"
     ]
    }
   ],
   "source": [
    "lista=[58,96,45,78,12]\n",
    "\n",
    "print(f'El menor es {min(lista)} y el mayor es {max(lista)}')"
   ]
  },
  {
   "cell_type": "code",
   "execution_count": 5,
   "metadata": {},
   "outputs": [
    {
     "name": "stdout",
     "output_type": "stream",
     "text": [
      "El menor es Ana y el mayor es Pedro\n"
     ]
    }
   ],
   "source": [
    "nombres=['Juan','Ana','Luis','Pedro','Maria']\n",
    "\n",
    "print(f'El menor es {min(nombres)} y el mayor es {max(nombres)}')"
   ]
  },
  {
   "cell_type": "code",
   "execution_count": 7,
   "metadata": {},
   "outputs": [
    {
     "name": "stdout",
     "output_type": "stream",
     "text": [
      "a\n"
     ]
    }
   ],
   "source": [
    "nombre='juan'\n",
    "\n",
    "print(min(nombre)) # Toma las mayusculas como menores"
   ]
  },
  {
   "cell_type": "code",
   "execution_count": 8,
   "metadata": {},
   "outputs": [
    {
     "name": "stdout",
     "output_type": "stream",
     "text": [
      "C1\n"
     ]
    }
   ],
   "source": [
    "dic={'C1':45,'C2':12,'C3':100}\n",
    "\n",
    "print(min(dic)) # Toma las claves"
   ]
  },
  {
   "cell_type": "code",
   "execution_count": 9,
   "metadata": {},
   "outputs": [
    {
     "name": "stdout",
     "output_type": "stream",
     "text": [
      "12\n"
     ]
    }
   ],
   "source": [
    "print(min(dic.values())) # Toma los valores"
   ]
  }
 ],
 "metadata": {
  "kernelspec": {
   "display_name": "Python 3",
   "language": "python",
   "name": "python3"
  },
  "language_info": {
   "codemirror_mode": {
    "name": "ipython",
    "version": 3
   },
   "file_extension": ".py",
   "mimetype": "text/x-python",
   "name": "python",
   "nbconvert_exporter": "python",
   "pygments_lexer": "ipython3",
   "version": "3.11.9"
  }
 },
 "nbformat": 4,
 "nbformat_minor": 2
}
